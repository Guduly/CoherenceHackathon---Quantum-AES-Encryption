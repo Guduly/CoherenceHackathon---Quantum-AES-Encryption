{
 "cells": [
  {
   "cell_type": "code",
   "execution_count": 43,
   "id": "f7f4760d",
   "metadata": {},
   "outputs": [],
   "source": [
    "from qiskit import *\n",
    "from qiskit_aer import QasmSimulator\n",
    "from qiskit.visualization import plot_histogram, plot_error_map\n"
   ]
  },
  {
   "cell_type": "code",
   "execution_count": 44,
   "id": "bccd4a4c",
   "metadata": {},
   "outputs": [],
   "source": [
    "from qiskit_ibm_runtime import QiskitRuntimeService"
   ]
  },
  {
   "cell_type": "code",
   "execution_count": 45,
   "id": "b75a0659",
   "metadata": {},
   "outputs": [],
   "source": [
    "service = QiskitRuntimeService()"
   ]
  },
  {
   "cell_type": "code",
   "execution_count": 46,
   "id": "2ab3d9db",
   "metadata": {},
   "outputs": [],
   "source": [
    "def XOR(chunk1, chunk2):\n",
    "    \n",
    "    s = \"\"\n",
    "    for char1, char2 in zip(chunk1, chunk2):\n",
    "        xo = ord(char1)^ord(char2)\n",
    "        s += str(chr(xo))\n",
    "    return s"
   ]
  },
  {
   "cell_type": "code",
   "execution_count": 47,
   "id": "17d063a3",
   "metadata": {},
   "outputs": [],
   "source": [
    "def Rotate(chunk1, j):\n",
    "    shift = 1\n",
    "    s = \"\"\n",
    "    size = len(chunk1)\n",
    "    for i in range(shift, size):\n",
    "        s += str(chunk1[i])\n",
    "    \n",
    "    for j in range(0,shift):\n",
    "        s += str(chunk1[j])\n",
    "    return s"
   ]
  },
  {
   "cell_type": "code",
   "execution_count": 48,
   "id": "7bdca617",
   "metadata": {},
   "outputs": [],
   "source": [
    "def KEY(encrypt):\n",
    "    numQ = 8; \n",
    "    circ = QuantumCircuit(numQ, numQ)\n",
    "    circ.h(range(numQ))\n",
    "    circ.measure(range(numQ), range(numQ))\n",
    "    sim = QasmSimulator()\n",
    "    comp = transpile(circuits=circ, backend=sim)\n",
    "    job = sim.run(comp, shots=3000)\n",
    "    result = job.result()\n",
    "    counts = result.get_counts(circ)\n",
    "    \n",
    "    def QRNG():\n",
    "        \n",
    "        jobR = sim.run(transpile(circ, sim), shots=1000)\n",
    "        result = jobR.result()\n",
    "        count = result.get_counts(circ)\n",
    "        key = \"\"\n",
    "        for val in list(count.keys()):\n",
    "            key += str(chr(int(val,2)))\n",
    "            \n",
    "        return key  \n",
    "    \n",
    "    def AES_Expan(message, key):\n",
    "        keyc = list(key)\n",
    "        rounds = []\n",
    "        encry = \"\"\n",
    "        size = len(keyc)\n",
    "        \n",
    "        for i in range(0, size, 10):\n",
    "            if(i+3 > size):\n",
    "                rounds.append(keyc[i:size])\n",
    "            else:\n",
    "                rounds.append(keyc[i:i+10])            \n",
    "        size = len(rounds)*10\n",
    "        chec = 0\n",
    "        for j in range(5,size):\n",
    "            if(chec >= len(message)):break\n",
    "            if(j%5 == 0):\n",
    "                encry += XOR(XOR(rounds[j-1], rounds[j-5]), message[chec])\n",
    "                rounds.append(XOR(rounds[j-1], rounds[j-5]))\n",
    "            else:\n",
    "                encry += XOR(XOR(Rotate(rounds[j-2], j), \"#@^$#$^\"), message[chec])\n",
    "                rounds.append(XOR(Rotate(rounds[j-2], j), \"#@^$#$^\"))\n",
    "            chec += 1\n",
    "            \n",
    "        return encry\n",
    "    \n",
    "    return AES_Expan(encrypt,QRNG())\n"
   ]
  },
  {
   "cell_type": "code",
   "execution_count": 49,
   "id": "94ef55e9",
   "metadata": {},
   "outputs": [
    {
     "data": {
      "text/plain": [
       "'\\x12XÚ¾n©¬%{\\x99Ã¸g0\\x1b\\x8aÅ\\x95oìÊD\\x0f⃛\\x15g-5Ï{\\x154ÉU\\x08µÎà(°{ù\\x9a~{±ÈuiÅ>^\\x07V/*ý\\x1bõz;g_È\\x9b8`\\t¼\\x17\\x0cTo\\x18\\x93yiúÊÍ7À\\x01\\x8cºÇàt3 L\\x00\\x1bø\\x0b¢\\u20f6Lm\\x00Ö\\x188\\x05Y\\xadäºÎ\\x88Ä(0yÓo³Ê\\x04(\\x83ÝSã\\x1eé\\x86\\x86ª\\x89K-Äq\\x8f;e\\x9eÞË{æ\\x1c=×¹jÌl\\x9d\\taµJ¿\\x97²©Äg\\x82₲l¸¨ÏApØä-±´òòß;\\x08¤)\\x939r/ß\\x11\\x0fm-wS\\x96¢1\\x1aç5\\x95È_\\x98«qFE$3n\\x8fµZ_¡\\x16\\x05>\\x95Øè\\x83Î\\xa0g₀Z©6\\x0eKßêÕ3ï»ho\\x7fÕäÎ\\x15>:y'"
      ]
     },
     "execution_count": 49,
     "metadata": {},
     "output_type": "execute_result"
    }
   ],
   "source": [
    "KEY(\"The old key lay in Mira’s palm, warm despite the cold night. She had found it in her grandmother’s sewing box, tied with a red ribbon.The note read: For when you’re ready.Drawn by instinct, she walked to the garden shed she’d never entered. The lock clicked open. Inside was a trunk filled with photographs—people she’d never met, all smiling at her as if they knew her.At the bottom lay a letter addressed to My future, brave girl.Mira smiled through tears. She was ready.\")"
   ]
  }
 ],
 "metadata": {
  "kernelspec": {
   "display_name": "Python 3",
   "language": "python",
   "name": "python3"
  },
  "language_info": {
   "codemirror_mode": {
    "name": "ipython",
    "version": 3
   },
   "file_extension": ".py",
   "mimetype": "text/x-python",
   "name": "python",
   "nbconvert_exporter": "python",
   "pygments_lexer": "ipython3",
   "version": "3.12.10"
  }
 },
 "nbformat": 4,
 "nbformat_minor": 5
}
